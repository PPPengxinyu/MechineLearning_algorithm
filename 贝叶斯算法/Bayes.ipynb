{
 "cells": [
  {
   "cell_type": "markdown",
   "metadata": {},
   "source": [
    "# 极大似然估计  朴素贝叶斯算法"
   ]
  },
  {
   "cell_type": "code",
   "execution_count": 1,
   "metadata": {},
   "outputs": [],
   "source": [
    "# 极大似然估计  朴素贝叶斯算法\n",
    "import pandas as pd\n",
    "import numpy as np"
   ]
  },
  {
   "cell_type": "code",
   "execution_count": 36,
   "metadata": {},
   "outputs": [],
   "source": [
    "#定义朴素贝叶斯分类\n",
    "class NaiveBayes(object):\n",
    "    #定义读入数据集函数\n",
    "    def getTrainSet(self):\n",
    "        dataSet = pd.read_csv('naivebayes_data.csv')\n",
    "        dataSetNP = np.array(dataSet)  #将数据由dataframe类型转换为数组类型\n",
    "        trainData = dataSetNP[:,0:dataSetNP.shape[1]-1]   #训练数据x1,x2\n",
    "        labels = dataSetNP[:,dataSetNP.shape[1]-1]        #训练数据所对应的所属类型Y\n",
    "        return trainData, labels\n",
    "\n",
    "    def classify(self, trainData, labels, features):\n",
    "        #求labels中每个label的先验概率\n",
    "        labels = list(labels)    #转换为list类型\n",
    "        labelset = set(labels)    #转换为集合类型\n",
    "        P_y = {}       #存入label的概率\n",
    "        for label in labelset:   #遍历标签的类型\n",
    "            P_y[label] = labels.count(label)/float(len(labels))   # p = count(y) / count(Y)统计各个类型的先验概率,先验概率即各个标签在数据集中的占比\n",
    "            print('标签类型{0}的先验概率为{1}'.format(label,P_y[label]))\n",
    "\n",
    "        #求label与feature同时发生的概率\n",
    "        P_xy = {} #设置空字典，用以存放x和y同时发生的概率\n",
    "        for y in P_y.keys():\n",
    "            y_index = [i for i, label in enumerate(labels) if label == y]  # labels中出现y值的所有数值的下标索引\n",
    "            for j in range(len(features)):      # features[0] 在trainData[:,0]中出现的值的所有下标索引\n",
    "                x_index = [i for i, feature in enumerate(trainData[:,j]) if feature == features[j]]\n",
    "                xy_count = len(set(x_index) & set(y_index))   # set(x_index)&set(y_index)列出两个表相同的元素\n",
    "                pkey = str(features[j]) + '*' + str(y)\n",
    "                P_xy[pkey] = xy_count / float(len(labels)) #x和y同时存在的数量除以标签的总数量即为xy同时发生的概率\n",
    "                print(pkey,P_xy[pkey])\n",
    "\n",
    "        #求条件概率\n",
    "        P = {}\n",
    "        for y in P_y.keys(): #遍历便签\n",
    "            for x in features: #遍历数据特征，即输入的样本\n",
    "                pkey = str(x) + '|' + str(y)\n",
    "                P[pkey] = P_xy[str(x)+'*'+str(y)] / float(P_y[y])    #P[X1/Y] = P[X1Y]/P[Y] 后验概率公式\n",
    "                print(pkey,P[pkey])\n",
    "\n",
    "        #求[2,'S']所属类别\n",
    "        F = {}   #[2,'S']属于各个类别的概率\n",
    "        for y in P_y.keys():\n",
    "            F[y] = P_y[y]\n",
    "            for x in features:\n",
    "                F[y] = P_y[y]*P[str(x)+'|'+str(y)]     #P[y/X] = P[X/y]*P[y]/P[X]，分母相等，比较分子即可，所以有F=P[X/y]*P[y]=P[x1/Y]*P[x2/Y]*P[y]\n",
    "                print(str(x),str(y),F[y])\n",
    "\n",
    "\n",
    "\n",
    "        features_label = max(F, key=F.get)  #概率最大值对应的类别\n",
    "        return features_label\n"
   ]
  },
  {
   "cell_type": "code",
   "execution_count": 17,
   "metadata": {},
   "outputs": [],
   "source": [
    "def getTrainSet():\n",
    "    dataSet = pd.read_csv('naivebayes_data.csv')\n",
    "    dataSetNP = np.array(dataSet)  #将数据由dataframe类型转换为数组类型\n",
    "    trainData = dataSetNP[:,0:dataSetNP.shape[1]-1]   #训练数据x1,x2\n",
    "    labels = dataSetNP[:,dataSetNP.shape[1]-1]        #训练数据所对应的所属类型Y\n",
    "    return trainData, labels"
   ]
  },
  {
   "cell_type": "code",
   "execution_count": 18,
   "metadata": {
    "collapsed": true
   },
   "outputs": [
    {
     "data": {
      "text/plain": [
       "(array([[1, 'S'],\n",
       "        [1, 'M'],\n",
       "        [1, 'M'],\n",
       "        [1, 'S'],\n",
       "        [1, 'S'],\n",
       "        [2, 'S'],\n",
       "        [2, 'M'],\n",
       "        [2, 'M'],\n",
       "        [2, 'L'],\n",
       "        [2, 'L'],\n",
       "        [3, 'L'],\n",
       "        [3, 'M'],\n",
       "        [3, 'M'],\n",
       "        [3, 'L'],\n",
       "        [3, 'L']], dtype=object),\n",
       " array([-1, -1, 1, 1, -1, -1, -1, 1, 1, 1, 1, 1, 1, 1, -1], dtype=object))"
      ]
     },
     "execution_count": 18,
     "metadata": {},
     "output_type": "execute_result"
    }
   ],
   "source": [
    "getTrainSet()"
   ]
  },
  {
   "cell_type": "code",
   "execution_count": null,
   "metadata": {},
   "outputs": [],
   "source": []
  },
  {
   "cell_type": "code",
   "execution_count": null,
   "metadata": {},
   "outputs": [],
   "source": []
  },
  {
   "cell_type": "code",
   "execution_count": 37,
   "metadata": {},
   "outputs": [
    {
     "name": "stdout",
     "output_type": "stream",
     "text": [
      "标签类型1的先验概率为0.6\n",
      "标签类型-1的先验概率为0.4\n",
      "2*1 0.2\n",
      "S*1 0.06666666666666667\n",
      "2*-1 0.13333333333333333\n",
      "S*-1 0.2\n",
      "2|1 0.33333333333333337\n",
      "S|1 0.11111111111111112\n",
      "2|-1 0.3333333333333333\n",
      "S|-1 0.5\n",
      "2 1 0.2\n",
      "S 1 0.022222222222222227\n",
      "2 -1 0.13333333333333333\n",
      "S -1 0.06666666666666667\n",
      "[2, 'S'] 属于 -1\n"
     ]
    }
   ],
   "source": [
    "#主程序\n",
    "if __name__ == '__main__':\n",
    "    nb = NaiveBayes()\n",
    "    # 训练数据\n",
    "    trainData, labels = nb.getTrainSet()\n",
    "    # x1,x2\n",
    "    features = [2,'S']\n",
    "    # 该特征应属于哪一类\n",
    "    result = nb.classify(trainData, labels, features)\n",
    "    print(features,'属于',result)"
   ]
  },
  {
   "cell_type": "code",
   "execution_count": 33,
   "metadata": {},
   "outputs": [
    {
     "data": {
      "text/plain": [
       "[(0, -1),\n",
       " (1, -1),\n",
       " (2, 1),\n",
       " (3, 1),\n",
       " (4, -1),\n",
       " (5, -1),\n",
       " (6, -1),\n",
       " (7, 1),\n",
       " (8, 1),\n",
       " (9, 1),\n",
       " (10, 1),\n",
       " (11, 1),\n",
       " (12, 1),\n",
       " (13, 1),\n",
       " (14, -1)]"
      ]
     },
     "execution_count": 33,
     "metadata": {},
     "output_type": "execute_result"
    }
   ],
   "source": [
    "list(enumerate(labels))"
   ]
  },
  {
   "cell_type": "code",
   "execution_count": null,
   "metadata": {},
   "outputs": [],
   "source": []
  },
  {
   "cell_type": "code",
   "execution_count": null,
   "metadata": {},
   "outputs": [],
   "source": []
  }
 ],
 "metadata": {
  "kernelspec": {
   "display_name": "Python 3",
   "language": "python",
   "name": "python3"
  },
  "language_info": {
   "codemirror_mode": {
    "name": "ipython",
    "version": 3
   },
   "file_extension": ".py",
   "mimetype": "text/x-python",
   "name": "python",
   "nbconvert_exporter": "python",
   "pygments_lexer": "ipython3",
   "version": "3.6.6"
  }
 },
 "nbformat": 4,
 "nbformat_minor": 4
}

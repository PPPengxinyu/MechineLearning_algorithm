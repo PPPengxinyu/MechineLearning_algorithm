{
 "cells": [
  {
   "cell_type": "markdown",
   "metadata": {},
   "source": [
    "# KNN分类"
   ]
  },
  {
   "cell_type": "code",
   "execution_count": 11,
   "metadata": {},
   "outputs": [],
   "source": [
    "import math\n",
    "\n",
    "\n",
    "#定义k近邻分类器\n",
    "class KNN:\n",
    "    #初始化\n",
    "    def __init__(self): #初始化所需要的变量\n",
    "        self.list_l = []\n",
    "        self.labels = []\n",
    "        self.dist_label = []\n",
    "        self.dict_s = {}\n",
    "        #加载数据\n",
    "        self.f = open('data.txt','r',encoding = 'utf-8') #自己写的数据集，很小\n",
    "        for i in self.f.readlines()[1:]:\n",
    "            l = i.strip().split(',')\n",
    "            x,y = eval(l[0]),eval(l[1])\n",
    "            self.list_l.append([tuple([x,y]),eval(l[2])])\n",
    "            self.labels.append(eval(l[2]))\n",
    "        self.f.close()        \n",
    "\n",
    "    #定义分类函数\n",
    "    def classify(self,location,K): #函数需要传入坐标位置和K近邻数\n",
    "        for item in self.list_l:\n",
    "            dist = math.sqrt((location[0]-item[0][0])**2+(location[1]-item[0][1])**2) #计算两点之间的距离\n",
    "            self.dist_label.append(tuple([dist,item[1]]))  \n",
    "        M = sorted(self.dist_label,key=lambda x: x[0]) #距离由小到大排序\n",
    "        \n",
    "        #查找前K个最近点分属于每一类的数量\n",
    "        for s in M[0:K]:\n",
    "            self.dict_s[s[1]] = self.dict_s.get(s[1],0)+1\n",
    "        print(\"坐标{0}属于{1}类\".format(str(location),str(sorted(self.dict_s.items(),key=lambda x: x[1],reverse = True)[0][0]))) #取数量最多的一类作为分类结果"
   ]
  },
  {
   "cell_type": "code",
   "execution_count": 12,
   "metadata": {},
   "outputs": [
    {
     "name": "stdout",
     "output_type": "stream",
     "text": [
      "坐标(10, 5)属于3类\n"
     ]
    }
   ],
   "source": [
    "#小测试\n",
    "classifier = KNN() #实例化一个分类器\n",
    "classifier.classify((10,5),5) #传入参数进行分类"
   ]
  },
  {
   "cell_type": "code",
   "execution_count": null,
   "metadata": {},
   "outputs": [],
   "source": []
  },
  {
   "cell_type": "code",
   "execution_count": null,
   "metadata": {},
   "outputs": [],
   "source": []
  },
  {
   "cell_type": "code",
   "execution_count": null,
   "metadata": {},
   "outputs": [],
   "source": []
  }
 ],
 "metadata": {
  "kernelspec": {
   "display_name": "Python 3",
   "language": "python",
   "name": "python3"
  },
  "language_info": {
   "codemirror_mode": {
    "name": "ipython",
    "version": 3
   },
   "file_extension": ".py",
   "mimetype": "text/x-python",
   "name": "python",
   "nbconvert_exporter": "python",
   "pygments_lexer": "ipython3",
   "version": "3.6.6"
  }
 },
 "nbformat": 4,
 "nbformat_minor": 4
}
